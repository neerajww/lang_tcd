{
 "cells": [
  {
   "cell_type": "code",
   "execution_count": 1,
   "metadata": {
    "collapsed": true
   },
   "outputs": [],
   "source": [
    "import pandas as pd\n",
    "import numpy as np\n",
    "import statsmodels.api as sm"
   ]
  },
  {
   "cell_type": "code",
   "execution_count": 5,
   "metadata": {
    "collapsed": true
   },
   "outputs": [],
   "source": [
    "feats_type = ['mfcc', 'mfcc_d1','mfcc_d2','engy','envp','mel','sflux','sroll','loudness']\n",
    "DF = pd.read_csv('./data/csvs/pooled_subject_response_acoustic_feats_data.csv')  \n"
   ]
  },
  {
   "cell_type": "code",
   "execution_count": 7,
   "metadata": {
    "collapsed": true
   },
   "outputs": [],
   "source": [
    "DF['RT'] = DF['t_resp'] - DF['t_end'] # make a response time column\n",
    "DF['label-response'] = DF['label'] - DF['response'] # make a correct response column\n",
    "indx = []\n",
    "indx.append(DF.loc[DF['session'] == 'TEST'].index.to_numpy())\n",
    "indx.append(np.where(DF[\"label-response\"].values ==0)[0])\n",
    "indx.append(DF.loc[DF['lang'] == 0].index.to_numpy()) # chinese\n",
    "indx.append(DF.loc[DF['lang'] == 1].index.to_numpy()) # english\n",
    "indx.append(np.where(DF[\"RT\"].values >.200)[0])\n",
    "indx.append(np.where(DF[\"RT\"].values <2)[0])\n",
    "indx_correct = []\n",
    "# collect all indices for chinese+correct\n",
    "indx_correct.append(np.array(list(set(indx[0]) & set(indx[1]) & set(indx[2]) & set(indx[4]) & set(indx[5]))))\n",
    "# collect all indices for english+correct\n",
    "indx_correct.append(np.array(list(set(indx[0]) & set(indx[1]) & set(indx[3]) & set(indx[4]) & set(indx[5]))))"
   ]
  },
  {
   "cell_type": "code",
   "execution_count": 14,
   "metadata": {},
   "outputs": [],
   "source": [
    "# do a linear regression fit on chinese+correct: RT vs features\n",
    "DF_subset = DF.loc[indx_correct[0], :]\n",
    "RT = DF_subset[\"RT\"].values\n",
    "features = DF_subset[feats_type].values"
   ]
  },
  {
   "cell_type": "code",
   "execution_count": 15,
   "metadata": {},
   "outputs": [],
   "source": [
    "data_x = sm.add_constant(features,prepend=False)\n",
    "data_y = 10*np.log10(RT.copy()*1000)\n",
    "mod = sm.OLS(data_y, data_x)"
   ]
  },
  {
   "cell_type": "code",
   "execution_count": 16,
   "metadata": {},
   "outputs": [
    {
     "name": "stdout",
     "output_type": "stream",
     "text": [
      "                            OLS Regression Results                            \n",
      "==============================================================================\n",
      "Dep. Variable:                      y   R-squared:                       0.021\n",
      "Model:                            OLS   Adj. R-squared:                  0.017\n",
      "Method:                 Least Squares   F-statistic:                     5.026\n",
      "Date:                Fri, 27 Mar 2020   Prob (F-statistic):           9.96e-07\n",
      "Time:                        23:13:05   Log-Likelihood:                -4235.2\n",
      "No. Observations:                2076   AIC:                             8490.\n",
      "Df Residuals:                    2066   BIC:                             8547.\n",
      "Df Model:                           9                                         \n",
      "Covariance Type:            nonrobust                                         \n",
      "==============================================================================\n",
      "                 coef    std err          t      P>|t|      [0.025      0.975]\n",
      "------------------------------------------------------------------------------\n",
      "x1            -0.3422      0.139     -2.470      0.014      -0.614      -0.070\n",
      "x2             1.6096      2.591      0.621      0.535      -3.472       6.692\n",
      "x3             7.9332      2.411      3.291      0.001       3.205      12.661\n",
      "x4            -0.3638      0.263     -1.383      0.167      -0.880       0.152\n",
      "x5            -0.4148      0.408     -1.018      0.309      -1.214       0.385\n",
      "x6            -0.1619      0.119     -1.356      0.175      -0.396       0.072\n",
      "x7             0.3487      0.397      0.878      0.380      -0.430       1.128\n",
      "x8            -0.1102      0.185     -0.595      0.552      -0.473       0.253\n",
      "x9             0.8018      0.296      2.706      0.007       0.221       1.383\n",
      "const         28.3062      0.234    120.910      0.000      27.847      28.765\n",
      "==============================================================================\n",
      "Omnibus:                       58.727   Durbin-Watson:                   1.432\n",
      "Prob(Omnibus):                  0.000   Jarque-Bera (JB):               63.366\n",
      "Skew:                           0.428   Prob(JB):                     1.74e-14\n",
      "Kurtosis:                       2.964   Cond. No.                         225.\n",
      "==============================================================================\n",
      "\n",
      "Warnings:\n",
      "[1] Standard Errors assume that the covariance matrix of the errors is correctly specified.\n"
     ]
    }
   ],
   "source": [
    "res = mod.fit()\n",
    "print(res.summary())"
   ]
  },
  {
   "cell_type": "code",
   "execution_count": null,
   "metadata": {
    "collapsed": true
   },
   "outputs": [],
   "source": []
  },
  {
   "cell_type": "code",
   "execution_count": null,
   "metadata": {
    "collapsed": true
   },
   "outputs": [],
   "source": []
  }
 ],
 "metadata": {
  "kernelspec": {
   "display_name": "Python 3",
   "language": "python",
   "name": "python3"
  },
  "language_info": {
   "codemirror_mode": {
    "name": "ipython",
    "version": 3
   },
   "file_extension": ".py",
   "mimetype": "text/x-python",
   "name": "python",
   "nbconvert_exporter": "python",
   "pygments_lexer": "ipython3",
   "version": "3.6.8"
  }
 },
 "nbformat": 4,
 "nbformat_minor": 2
}
