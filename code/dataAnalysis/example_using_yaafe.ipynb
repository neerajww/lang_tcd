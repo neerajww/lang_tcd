{
 "cells": [
  {
   "cell_type": "code",
   "execution_count": null,
   "metadata": {
    "collapsed": true
   },
   "outputs": [],
   "source": [
    "#!/usr/bin/env python3\n",
    "# -*- coding: utf-8 -*-\n",
    "\"\"\"\n",
    "Created on Sun Feb 10, 2020\n",
    "@author: neeks, cmu\n",
    "\"\"\"\n",
    "import glob # for_listing_filenames_from_directory\n",
    "import os # for_extracting_filename_from_path\n",
    "import librosa # audio_processing_library\n",
    "from yaafelib import *\n",
    "import numpy as np\n",
    "import pickle\n",
    "import matplotlib.pyplot as plt\n",
    "# Build a DataFlow object using FeaturePlan"
   ]
  },
  {
   "cell_type": "code",
   "execution_count": null,
   "metadata": {
    "collapsed": true
   },
   "outputs": [],
   "source": [
    "file_name = 'abc.wav'\n",
    "path_store_feats = './data/feats/'\n",
    "feats_type = ['mfcc', 'mfcc_d1','mfcc_d2']"
   ]
  },
  {
   "cell_type": "code",
   "execution_count": null,
   "metadata": {
    "collapsed": true
   },
   "outputs": [],
   "source": [
    "# init feature params\n",
    "fp = FeaturePlan(sample_rate=16000)\n",
    "fp.addFeature('mfcc: MFCC blockSize=400 stepSize=160 CepsIgnoreFirstCoeff=1 CepsNbCoeffs=12')\n",
    "fp.addFeature('mfcc_d1: MFCC blockSize=400 stepSize=160 CepsIgnoreFirstCoeff=1 CepsNbCoeffs=12 > Derivate DOrder=1')\n",
    "fp.addFeature('mfcc_d2: MFCC blockSize=400 stepSize=160 CepsIgnoreFirstCoeff=1 CepsNbCoeffs=12 > Derivate DOrder=2')\n",
    "\n",
    "\n",
    "# init yaafe engine\n",
    "engine = Engine()\n",
    "engine.load(fp.getDataFlow())\n",
    "engine.getInputs()\n",
    "{'audio': {'sampleRate': 16000.0,\n",
    "           'frameLength': 1,\n",
    "           'sampleStep': 1,\n",
    "           'parameters': {'SampleRate': '16000'},\n",
    "           'size': 1}}"
   ]
  },
  {
   "cell_type": "code",
   "execution_count": null,
   "metadata": {
    "collapsed": true
   },
   "outputs": [],
   "source": [
    "y, sr = librosa.load(file_name,sr=None)\n",
    "\n",
    "print('Extracting features from: ' + file_name)\n",
    "if sr != 16000:\n",
    "    y = librosa.resample(y, sr, 16000)\n",
    "    sr = 16000\n",
    "y = y/np.max(abs(y))\n",
    "\n",
    "# extract features from a numpy array\n",
    "audio = np.reshape(y,(1,len(y)))\n",
    "audio = np.float64(audio)\n",
    "feats = engine.processAudio(audio)\n",
    "\n",
    "for l in range(len(feats_type)):\n",
    "    if not os.path.exists(path_store_feats+feats_type[l]):\n",
    "        os.mkdir(path_store_feats+feats_type[l])\n",
    "        with open(path_store_feats+feats_type[l]+'/'+tail[:-4]+'_'+feats_type[l]+\n",
    "                  '.pickle', 'wb') as f:\n",
    "            pickle.dump(feats[feats_type[l]], f)\n"
   ]
  }
 ],
 "metadata": {
  "kernelspec": {
   "display_name": "Python 3",
   "language": "python",
   "name": "python3"
  },
  "language_info": {
   "codemirror_mode": {
    "name": "ipython",
    "version": 3
   },
   "file_extension": ".py",
   "mimetype": "text/x-python",
   "name": "python",
   "nbconvert_exporter": "python",
   "pygments_lexer": "ipython3",
   "version": "3.6.8"
  }
 },
 "nbformat": 4,
 "nbformat_minor": 2
}
