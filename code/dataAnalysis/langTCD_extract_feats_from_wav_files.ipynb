{
 "cells": [
  {
   "cell_type": "code",
   "execution_count": 22,
   "metadata": {
    "collapsed": true
   },
   "outputs": [],
   "source": [
    "#!/usr/bin/env python3\n",
    "# -*- coding: utf-8 -*-\n",
    "\"\"\"\n",
    "Created on Sun Feb 10, 2020\n",
    "@author: neeks, cmu\n",
    "\"\"\"\n",
    "import glob # for_listing_filenames_from_directory\n",
    "import os # for_extracting_filename_from_path\n",
    "import librosa # audio_processing_library\n",
    "from yaafelib import *\n",
    "import numpy as np\n",
    "import pickle\n",
    "import matplotlib.pyplot as plt\n",
    "# Build a DataFlow object using FeaturePlan"
   ]
  },
  {
   "cell_type": "code",
   "execution_count": 27,
   "metadata": {
    "collapsed": true
   },
   "outputs": [],
   "source": [
    "path_wav_files = '../lisTest/tcdDecision/playback/STIMULI/'\n",
    "wav_folder_types = ['chinese','english']\n",
    "file_types = ['nspkrs_1','nspkrs_2']\n",
    "\n",
    "path_store_feats = './data/feats/'\n",
    "feats_type = ['mfcc', 'mfcc_d1','mfcc_d2']"
   ]
  },
  {
   "cell_type": "code",
   "execution_count": 28,
   "metadata": {},
   "outputs": [
    {
     "data": {
      "text/plain": [
       "{'audio': {'sampleRate': 16000.0,\n",
       "  'frameLength': 1,\n",
       "  'sampleStep': 1,\n",
       "  'parameters': {'SampleRate': '16000'},\n",
       "  'size': 1}}"
      ]
     },
     "execution_count": 28,
     "metadata": {},
     "output_type": "execute_result"
    }
   ],
   "source": [
    "# init feature params\n",
    "fp = FeaturePlan(sample_rate=16000)\n",
    "fp.addFeature('mfcc: MFCC blockSize=400 stepSize=160 CepsIgnoreFirstCoeff=1 CepsNbCoeffs=12')\n",
    "fp.addFeature('mfcc_d1: MFCC blockSize=400 stepSize=160 CepsIgnoreFirstCoeff=1 CepsNbCoeffs=12 > Derivate DOrder=1')\n",
    "fp.addFeature('mfcc_d2: MFCC blockSize=400 stepSize=160 CepsIgnoreFirstCoeff=1 CepsNbCoeffs=12 > Derivate DOrder=2')\n",
    "\n",
    "\n",
    "# init yaafe engine\n",
    "engine = Engine()\n",
    "engine.load(fp.getDataFlow())\n",
    "engine.getInputs()\n",
    "{'audio': {'sampleRate': 16000.0,\n",
    "           'frameLength': 1,\n",
    "           'sampleStep': 1,\n",
    "           'parameters': {'SampleRate': '16000'},\n",
    "           'size': 1}}"
   ]
  },
  {
   "cell_type": "code",
   "execution_count": 29,
   "metadata": {
    "collapsed": true
   },
   "outputs": [],
   "source": [
    "# read wav filenames with path\n",
    "wav_files = []\n",
    "for i in range(len(wav_folder_types)):\n",
    "    wav_files.append([])\n",
    "    for j in range(len(file_types)):\n",
    "        wav_files[i].append([])\n",
    "        for file in glob.glob(path_wav_files+wav_folder_types[i]+'/wavFilesTest/'+'*'+file_types[j]+'.wav'):\n",
    "            wav_files[i][j].append(file)"
   ]
  },
  {
   "cell_type": "code",
   "execution_count": 30,
   "metadata": {},
   "outputs": [
    {
     "name": "stdout",
     "output_type": "stream",
     "text": [
      "1: Extracting features from: BAC009S0128W0416_BAC009S0128W0353_02_59_nspkrs_1.wav\n"
     ]
    },
    {
     "ename": "ZeroDivisionError",
     "evalue": "division by zero",
     "output_type": "error",
     "traceback": [
      "\u001b[0;31m---------------------------------------------------------------------------\u001b[0m",
      "\u001b[0;31mZeroDivisionError\u001b[0m                         Traceback (most recent call last)",
      "\u001b[0;32m<ipython-input-30-4849b9631d5f>\u001b[0m in \u001b[0;36m<module>\u001b[0;34m\u001b[0m\n\u001b[1;32m     23\u001b[0m                               '.pickle', 'wb') as f:\n\u001b[1;32m     24\u001b[0m                         \u001b[0mpickle\u001b[0m\u001b[0;34m.\u001b[0m\u001b[0mdump\u001b[0m\u001b[0;34m(\u001b[0m\u001b[0mfeats\u001b[0m\u001b[0;34m[\u001b[0m\u001b[0mfeats_type\u001b[0m\u001b[0;34m[\u001b[0m\u001b[0ml\u001b[0m\u001b[0;34m]\u001b[0m\u001b[0;34m]\u001b[0m\u001b[0;34m,\u001b[0m \u001b[0mf\u001b[0m\u001b[0;34m)\u001b[0m\u001b[0;34m\u001b[0m\u001b[0;34m\u001b[0m\u001b[0m\n\u001b[0;32m---> 25\u001b[0;31m                     \u001b[0mprint\u001b[0m\u001b[0;34m(\u001b[0m\u001b[0;36m1\u001b[0m\u001b[0;34m/\u001b[0m\u001b[0;36m0\u001b[0m\u001b[0;34m)\u001b[0m\u001b[0;34m\u001b[0m\u001b[0;34m\u001b[0m\u001b[0m\n\u001b[0m",
      "\u001b[0;31mZeroDivisionError\u001b[0m: division by zero"
     ]
    }
   ],
   "source": [
    "# extract and store feats as pickle file\n",
    "for i in range(len(wav_files)):\n",
    "    for j in range(len(wav_files[i])):\n",
    "        for k in range(len(wav_files[i][j])):\n",
    "            # read wav file\n",
    "            y, sr = librosa.load(wav_files[i][j][k],sr=None)\n",
    "            head, tail = os.path.split(wav_files[i][j][k])\n",
    "            print(str(i+1)+': Extracting features from: ' + tail)\n",
    "            if sr != 16000:\n",
    "                y = librosa.resample(y, sr, 16000)\n",
    "                sr = 16000\n",
    "            y = y/np.max(abs(y))\n",
    "\n",
    "            # extract features from a numpy array\n",
    "            audio = np.reshape(y,(1,len(y)))\n",
    "            audio = np.float64(audio)\n",
    "            feats = engine.processAudio(audio)\n",
    "\n",
    "            for l in range(len(feats_type)):\n",
    "                if not os.path.exists(path_store_feats+feats_type[l]):\n",
    "                    os.mkdir(path_store_feats+feats_type[l])\n",
    "                    with open(path_store_feats+feats_type[l]+'/'+tail[:-4]+'_'+feats_type[l]+\n",
    "                              '.pickle', 'wb') as f:\n",
    "                        pickle.dump(feats[feats_type[l]], f)\n",
    "                    print(1/)"
   ]
  }
 ],
 "metadata": {
  "kernelspec": {
   "display_name": "Python 3",
   "language": "python",
   "name": "python3"
  },
  "language_info": {
   "codemirror_mode": {
    "name": "ipython",
    "version": 3
   },
   "file_extension": ".py",
   "mimetype": "text/x-python",
   "name": "python",
   "nbconvert_exporter": "python",
   "pygments_lexer": "ipython3",
   "version": "3.6.8"
  }
 },
 "nbformat": 4,
 "nbformat_minor": 2
}
