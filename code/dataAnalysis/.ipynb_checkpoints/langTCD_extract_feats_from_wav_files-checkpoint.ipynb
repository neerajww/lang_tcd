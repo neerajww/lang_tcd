{
 "cells": [
  {
   "cell_type": "code",
   "execution_count": 1,
   "metadata": {
    "collapsed": true
   },
   "outputs": [],
   "source": [
    "#!/usr/bin/env python3\n",
    "# -*- coding: utf-8 -*-\n",
    "\"\"\"\n",
    "Created on Sun Feb 10, 2020\n",
    "@author: neeks, cmu\n",
    "\"\"\"\n",
    "import glob # for_listing_filenames_from_directory\n",
    "import os # for_extracting_filename_from_path\n",
    "import librosa # audio_processing_library\n",
    "from yaafelib import *\n",
    "import numpy as np\n",
    "import pickle\n",
    "import matplotlib.pyplot as plt\n",
    "import scipy.io\n",
    "import scipy\n",
    "from scipy import stats \n",
    "import seaborn as sns \n",
    "import pandas as pd\n",
    "from sklearn import datasets, linear_model\n",
    "from sklearn.metrics import mean_squared_error, r2_score\n",
    "import statsmodels.api as sm\n",
    "from matplotlib.ticker import (MultipleLocator, FormatStrFormatter,\n",
    "                               AutoMinorLocator)\n",
    "sns.set_style(\"white\")\n",
    "sns.set_style(\"ticks\")\n",
    "\n",
    "# Build a DataFlow object using FeaturePlan"
   ]
  },
  {
   "cell_type": "code",
   "execution_count": 2,
   "metadata": {
    "collapsed": true
   },
   "outputs": [],
   "source": [
    "path_wav_files = '../lisTest/tcdDecision/playback/STIMULI/'\n",
    "wav_folder_types = ['chinese','english']\n",
    "file_types = ['nspkrs_1','nspkrs_2']\n",
    "\n",
    "path_store_feats = './data/feats/'\n",
    "feats_type = ['mfcc', 'mfcc_d1','mfcc_d2','engy','envp','mel','sflux','sroll','loudness']"
   ]
  },
  {
   "cell_type": "code",
   "execution_count": 3,
   "metadata": {},
   "outputs": [
    {
     "data": {
      "text/plain": [
       "{'audio': {'sampleRate': 16000.0,\n",
       "  'frameLength': 1,\n",
       "  'sampleStep': 1,\n",
       "  'parameters': {'SampleRate': '16000'},\n",
       "  'size': 1}}"
      ]
     },
     "execution_count": 3,
     "metadata": {},
     "output_type": "execute_result"
    }
   ],
   "source": [
    "# init feature params\n",
    "blockSize = 400\n",
    "stepSize = 160\n",
    "fp = FeaturePlan(sample_rate=16000)\n",
    "fp.addFeature('mfcc: MFCC blockSize=400 stepSize=160 CepsIgnoreFirstCoeff=1 CepsNbCoeffs=12')\n",
    "fp.addFeature('mfcc_d1: MFCC blockSize=400 stepSize=160 CepsIgnoreFirstCoeff=1 CepsNbCoeffs=12 > Derivate DOrder=1')\n",
    "fp.addFeature('mfcc_d2: MFCC blockSize=400 stepSize=160 CepsIgnoreFirstCoeff=1 CepsNbCoeffs=12 > Derivate DOrder=2')\n",
    "fp.addFeature('engy: Energy blockSize=400  stepSize=160')\n",
    "fp.addFeature('envp: EnvelopeShapeStatistics EnDecim=200  blockSize=400  stepSize=160')\n",
    "fp.addFeature('loudness: Loudness FFTLength=0  FFTWindow=Hanning  LMode=Total blockSize=400 stepSize=160')\n",
    "fp.addFeature('mel: MelSpectrum blockSize=400  stepSize=160')\n",
    "fp.addFeature('sflux: SpectralFlux blockSize=400  stepSize=160')\n",
    "fp.addFeature('sroll: SpectralRolloff blockSize=400  stepSize=160')\n",
    "\n",
    "# init yaafe engine\n",
    "engine = Engine()\n",
    "engine.load(fp.getDataFlow())\n",
    "engine.getInputs()\n",
    "{'audio': {'sampleRate': 16000.0,\n",
    "           'frameLength': 1,\n",
    "           'sampleStep': 1,\n",
    "           'parameters': {'SampleRate': '16000'},\n",
    "           'size': 1}}"
   ]
  },
  {
   "cell_type": "code",
   "execution_count": 4,
   "metadata": {
    "collapsed": true
   },
   "outputs": [],
   "source": [
    "# read wav filenames with path\n",
    "wav_files = []\n",
    "for i in range(len(wav_folder_types)):\n",
    "    wav_files.append([])\n",
    "    for j in range(len(file_types)):\n",
    "        wav_files[i].append([])\n",
    "        for file in glob.glob(path_wav_files+wav_folder_types[i]+'/wavFilesTest/'+'*'+file_types[j]+'.wav'):\n",
    "            wav_files[i][j].append(file)"
   ]
  },
  {
   "cell_type": "code",
   "execution_count": 5,
   "metadata": {},
   "outputs": [
    {
     "name": "stdout",
     "output_type": "stream",
     "text": [
      "1: Extracting features from: BAC009S0128W0416_BAC009S0128W0353_02_59_nspkrs_1.wav\n",
      "1: Extracting features from: BAC009S0736W0311_BAC009S0736W0289_04_45_nspkrs_1.wav\n",
      "1: Extracting features from: BAC009S0347W0352_BAC009S0347W0314_03_13_nspkrs_1.wav\n",
      "1: Extracting features from: BAC009S0071W0461_BAC009S0071W0413_03_17_nspkrs_1.wav\n",
      "1: Extracting features from: BAC009S0195W0418_BAC009S0195W0360_03_84_nspkrs_1.wav\n",
      "1: Extracting features from: BAC009S0247W0341_BAC009S0247W0268_02_54_nspkrs_1.wav\n",
      "1: Extracting features from: BAC009S0090W0373_BAC009S0090W0327_03_45_nspkrs_1.wav\n",
      "1: Extracting features from: BAC009S0067W0365_BAC009S0067W0250_02_77_nspkrs_1.wav\n",
      "1: Extracting features from: BAC009S0089W0349_BAC009S0089W0154_04_16_nspkrs_1.wav\n",
      "1: Extracting features from: BAC009S0733W0439_BAC009S0733W0401_02_67_nspkrs_1.wav\n",
      "1: Extracting features from: BAC009S0049W0316_BAC009S0049W0136_03_24_nspkrs_1.wav\n",
      "1: Extracting features from: BAC009S0141W0417_BAC009S0141W0289_02_99_nspkrs_1.wav\n",
      "1: Extracting features from: BAC009S0005W0398_BAC009S0005W0281_03_12_nspkrs_1.wav\n",
      "1: Extracting features from: BAC009S0064W0353_BAC009S0064W0267_03_02_nspkrs_1.wav\n",
      "1: Extracting features from: BAC009S0138W0364_BAC009S0138W0356_03_04_nspkrs_1.wav\n",
      "1: Extracting features from: BAC009S0032W0445_BAC009S0032W0219_03_81_nspkrs_1.wav\n",
      "1: Extracting features from: BAC009S0517W0412_BAC009S0517W0305_02_87_nspkrs_1.wav\n",
      "1: Extracting features from: BAC009S0072W0461_BAC009S0072W0126_04_38_nspkrs_1.wav\n",
      "1: Extracting features from: BAC009S0703W0422_BAC009S0703W0208_03_52_nspkrs_1.wav\n",
      "1: Extracting features from: BAC009S0339W0421_BAC009S0339W0196_03_63_nspkrs_1.wav\n",
      "1: Extracting features from: BAC009S0221W0390_BAC009S0221W0360_02_68_nspkrs_1.wav\n",
      "1: Extracting features from: BAC009S0342W0169_BAC009S0342W0129_03_49_nspkrs_1.wav\n",
      "1: Extracting features from: BAC009S0037W0398_BAC009S0037W0309_03_07_nspkrs_1.wav\n",
      "1: Extracting features from: BAC009S0083W0424_BAC009S0083W0264_03_65_nspkrs_1.wav\n",
      "1: Extracting features from: BAC009S0050W0308_BAC009S0050W0275_04_85_nspkrs_1.wav\n",
      "1: Extracting features from: BAC009S0661W0448_BAC009S0661W0338_03_86_nspkrs_1.wav\n",
      "1: Extracting features from: BAC009S0510W0397_BAC009S0510W0268_02_55_nspkrs_1.wav\n",
      "1: Extracting features from: BAC009S0210W0338_BAC009S0210W0209_02_63_nspkrs_1.wav\n",
      "1: Extracting features from: BAC009S0108W0444_BAC009S0108W0334_02_99_nspkrs_1.wav\n",
      "1: Extracting features from: BAC009S0202W0408_BAC009S0202W0238_03_23_nspkrs_1.wav\n",
      "1: Extracting features from: BAC009S0185W0372_BAC009S0185W0370_03_82_nspkrs_1.wav\n",
      "1: Extracting features from: BAC009S0729W0483_BAC009S0729W0320_04_55_nspkrs_1.wav\n",
      "1: Extracting features from: BAC009S0916W0467_BAC009S0916W0386_03_18_nspkrs_1.wav\n",
      "1: Extracting features from: BAC009S0197W0428_BAC009S0197W0146_03_55_nspkrs_1.wav\n",
      "1: Extracting features from: BAC009S0194W0331_BAC009S0194W0185_04_71_nspkrs_1.wav\n",
      "1: Extracting features from: BAC009S0140W0424_BAC009S0140W0359_03_13_nspkrs_1.wav\n",
      "1: Extracting features from: BAC009S0030W0393_BAC009S0030W0127_02_95_nspkrs_1.wav\n",
      "1: Extracting features from: BAC009S0092W0416_BAC009S0092W0154_04_81_nspkrs_1.wav\n",
      "1: Extracting features from: BAC009S0167W0400_BAC009S0167W0388_02_72_nspkrs_1.wav\n",
      "1: Extracting features from: BAC009S0599W0369_BAC009S0599W0145_03_02_nspkrs_1.wav\n",
      "1: Extracting features from: BAC009S0901W0266_BAC009S0901W0192_02_88_nspkrs_1.wav\n",
      "1: Extracting features from: BAC009S0043W0165_BAC009S0043W0142_02_66_nspkrs_1.wav\n",
      "1: Extracting features from: BAC009S0024W0461_BAC009S0024W0342_03_09_nspkrs_1.wav\n",
      "1: Extracting features from: BAC009S0039W0451_BAC009S0039W0210_04_62_nspkrs_1.wav\n",
      "1: Extracting features from: BAC009S0121W0415_BAC009S0121W0371_03_27_nspkrs_1.wav\n",
      "1: Extracting features from: BAC009S0743W0407_BAC009S0743W0382_02_56_nspkrs_1.wav\n",
      "1: Extracting features from: BAC009S0065W0350_BAC009S0065W0123_03_54_nspkrs_1.wav\n",
      "1: Extracting features from: BAC009S0242W0494_BAC009S0242W0152_04_77_nspkrs_1.wav\n",
      "1: Extracting features from: BAC009S0091W0409_BAC009S0091W0381_04_56_nspkrs_1.wav\n",
      "1: Extracting features from: BAC009S0010W0452_BAC009S0010W0203_02_94_nspkrs_1.wav\n",
      "1: Extracting features from: BAC009S0036W0376_BAC009S0036W0336_03_34_nspkrs_1.wav\n",
      "1: Extracting features from: BAC009S0752W0201_BAC009S0752W0194_03_17_nspkrs_1.wav\n",
      "1: Extracting features from: BAC009S0110W0303_BAC009S0110W0230_03_54_nspkrs_1.wav\n",
      "1: Extracting features from: BAC009S0249W0357_BAC009S0249W0241_03_63_nspkrs_1.wav\n",
      "1: Extracting features from: BAC009S0902W0425_BAC009S0902W0208_03_61_nspkrs_1.wav\n",
      "1: Extracting features from: BAC009S0039W0369_BAC009S0058W0344_04_43_nspkrs_2.wav\n",
      "1: Extracting features from: BAC009S0046W0243_BAC009S0102W0212_03_56_nspkrs_2.wav\n",
      "1: Extracting features from: BAC009S0071W0167_BAC009S0083W0402_04_61_nspkrs_2.wav\n",
      "1: Extracting features from: BAC009S0072W0368_BAC009S0121W0189_03_65_nspkrs_2.wav\n",
      "1: Extracting features from: BAC009S0085W0438_BAC009S0119W0152_03_70_nspkrs_2.wav\n",
      "1: Extracting features from: BAC009S0117W0303_BAC009S0123W0335_05_00_nspkrs_2.wav\n",
      "1: Extracting features from: BAC009S0121W0178_BAC009S0122W0348_04_55_nspkrs_2.wav\n",
      "1: Extracting features from: BAC009S0184W0225_BAC009S0660W0219_03_92_nspkrs_2.wav\n",
      "1: Extracting features from: BAC009S0214W0262_BAC009S0757W0439_03_23_nspkrs_2.wav\n",
      "1: Extracting features from: BAC009S0250W0193_BAC009S0715W0430_03_12_nspkrs_2.wav\n",
      "1: Extracting features from: BAC009S0356W0160_BAC009S0511W0405_04_50_nspkrs_2.wav\n",
      "1: Extracting features from: BAC009S0006W0204_BAC009S0019W0258_03_45_nspkrs_2.wav\n",
      "1: Extracting features from: BAC009S0059W0167_BAC009S0117W0410_03_10_nspkrs_2.wav\n",
      "1: Extracting features from: BAC009S0012W0137_BAC009S0052W0186_03_80_nspkrs_2.wav\n",
      "1: Extracting features from: BAC009S0093W0203_BAC009S0106W0233_03_05_nspkrs_2.wav\n",
      "1: Extracting features from: BAC009S0019W0426_BAC009S0733W0302_02_75_nspkrs_2.wav\n",
      "1: Extracting features from: BAC009S0050W0290_BAC009S0078W0244_04_21_nspkrs_2.wav\n",
      "1: Extracting features from: BAC009S0070W0447_BAC009S0083W0159_03_98_nspkrs_2.wav\n",
      "1: Extracting features from: BAC009S0089W0196_BAC009S0705W0255_04_30_nspkrs_2.wav\n",
      "1: Extracting features from: BAC009S0095W0359_BAC009S0916W0408_04_44_nspkrs_2.wav\n",
      "1: Extracting features from: BAC009S0112W0207_BAC009S0734W0409_02_53_nspkrs_2.wav\n",
      "1: Extracting features from: BAC009S0734W0238_BAC009S0905W0174_04_15_nspkrs_2.wav\n",
      "1: Extracting features from: BAC009S0052W0186_BAC009S0084W0412_03_80_nspkrs_2.wav\n",
      "1: Extracting features from: BAC009S0147W0304_BAC009S0223W0353_04_73_nspkrs_2.wav\n",
      "1: Extracting features from: BAC009S0347W0130_BAC009S0761W0231_04_92_nspkrs_2.wav\n",
      "1: Extracting features from: BAC009S0210W0307_BAC009S0352W0139_03_22_nspkrs_2.wav\n",
      "1: Extracting features from: BAC009S0191W0224_BAC009S0745W0306_04_33_nspkrs_2.wav\n",
      "1: Extracting features from: BAC009S0232W0412_BAC009S0363W0133_04_42_nspkrs_2.wav\n",
      "1: Extracting features from: BAC009S0130W0243_BAC009S0230W0296_02_78_nspkrs_2.wav\n",
      "1: Extracting features from: BAC009S0153W0169_BAC009S0230W0205_03_06_nspkrs_2.wav\n",
      "1: Extracting features from: BAC009S0167W0471_BAC009S0660W0299_04_90_nspkrs_2.wav\n",
      "1: Extracting features from: BAC009S0759W0192_BAC009S0763W0147_04_14_nspkrs_2.wav\n",
      "1: Extracting features from: BAC009S0076W0478_BAC009S0252W0422_02_80_nspkrs_2.wav\n",
      "1: Extracting features from: BAC009S0038W0122_BAC009S0718W0357_03_53_nspkrs_2.wav\n",
      "1: Extracting features from: BAC009S0064W0121_BAC009S0108W0160_03_62_nspkrs_2.wav\n",
      "1: Extracting features from: BAC009S0195W0174_BAC009S0204W0372_04_52_nspkrs_2.wav\n",
      "1: Extracting features from: BAC009S0197W0310_BAC009S0744W0178_03_45_nspkrs_2.wav\n",
      "1: Extracting features from: BAC009S0120W0135_BAC009S0252W0194_04_06_nspkrs_2.wav\n",
      "1: Extracting features from: BAC009S0090W0286_BAC009S0109W0462_04_92_nspkrs_2.wav\n",
      "1: Extracting features from: BAC009S0350W0164_BAC009S0513W0149_03_50_nspkrs_2.wav\n",
      "1: Extracting features from: BAC009S0125W0128_BAC009S0170W0274_02_88_nspkrs_2.wav\n",
      "1: Extracting features from: BAC009S0187W0335_BAC009S0203W0176_04_71_nspkrs_2.wav\n",
      "1: Extracting features from: BAC009S0131W0134_BAC009S0198W0373_03_08_nspkrs_2.wav\n",
      "1: Extracting features from: BAC009S0203W0326_BAC009S0665W0433_04_17_nspkrs_2.wav\n",
      "1: Extracting features from: BAC009S0068W0324_BAC009S0906W0357_04_27_nspkrs_2.wav\n"
     ]
    },
    {
     "name": "stdout",
     "output_type": "stream",
     "text": [
      "1: Extracting features from: BAC009S0601W0275_BAC009S0716W0469_03_73_nspkrs_2.wav\n",
      "1: Extracting features from: BAC009S0722W0155_BAC009S0734W0159_04_82_nspkrs_2.wav\n",
      "1: Extracting features from: BAC009S0901W0384_BAC009S0902W0364_03_81_nspkrs_2.wav\n",
      "1: Extracting features from: BAC009S0149W0322_BAC009S0510W0446_04_32_nspkrs_2.wav\n",
      "1: Extracting features from: BAC009S0060W0354_BAC009S0714W0158_03_64_nspkrs_2.wav\n",
      "1: Extracting features from: BAC009S0422W0435_BAC009S0727W0193_03_00_nspkrs_2.wav\n",
      "2: Extracting features from: 511-131228-0021_511-131228-0000_02_54_nspkrs_1.wav\n",
      "2: Extracting features from: 652-130737-0004_652-130726-0009_04_99_nspkrs_1.wav\n",
      "2: Extracting features from: 6924-114452-0012_6924-114452-0004_02_69_nspkrs_1.wav\n",
      "2: Extracting features from: 1580-141084-0027_1580-141083-0030_03_36_nspkrs_1.wav\n",
      "2: Extracting features from: 7117-86732-0029_7117-86710-0013_03_21_nspkrs_1.wav\n",
      "2: Extracting features from: 121-127105-0017_121-121726-0002_02_69_nspkrs_1.wav\n",
      "2: Extracting features from: 5727-47030-0068_5727-47030-0024_02_88_nspkrs_1.wav\n",
      "2: Extracting features from: 210-129396-0170_210-129396-0000_02_65_nspkrs_1.wav\n",
      "2: Extracting features from: 224-129790-0037_224-129790-0000_02_80_nspkrs_1.wav\n",
      "2: Extracting features from: 176-123269-0009_176-122025-0032_04_94_nspkrs_1.wav\n",
      "2: Extracting features from: 7276-90847-0021_7276-284424-0026_02_62_nspkrs_1.wav\n",
      "2: Extracting features from: 1089-134691-0018_1089-134686-0027_03_09_nspkrs_1.wav\n",
      "2: Extracting features from: 353-128309-0092_353-128309-0024_04_18_nspkrs_1.wav\n",
      "2: Extracting features from: 1034-121119-0041_1034-121119-0035_04_62_nspkrs_1.wav\n",
      "2: Extracting features from: 2902-9008-0015_2902-9006-0004_02_72_nspkrs_1.wav\n",
      "2: Extracting features from: 8464-282934-0092_8464-282934-0065_02_94_nspkrs_1.wav\n",
      "2: Extracting features from: 5968-61356-0016_5968-55202-0008_03_66_nspkrs_1.wav\n",
      "2: Extracting features from: 7704-106974-0008_7704-106969-0000_04_68_nspkrs_1.wav\n",
      "2: Extracting features from: 3370-756-0029_3370-163384-0015_04_26_nspkrs_1.wav\n",
      "2: Extracting features from: 237-134500-0034_237-134500-0016_03_08_nspkrs_1.wav\n",
      "2: Extracting features from: 1337-10674-0044_1337-10674-0016_04_96_nspkrs_1.wav\n",
      "2: Extracting features from: 4595-45218-0039_4595-45204-0025_04_18_nspkrs_1.wav\n",
      "2: Extracting features from: 7302-86814-0041_7302-86814-0031_04_57_nspkrs_1.wav\n",
      "2: Extracting features from: 8190-284435-0012_8190-284435-0011_03_78_nspkrs_1.wav\n",
      "2: Extracting features from: 4535-279852-0034_4535-279849-0002_02_87_nspkrs_1.wav\n",
      "2: Extracting features from: 8848-293963-0036_8848-293963-0009_04_54_nspkrs_1.wav\n",
      "2: Extracting features from: 986-129388-0046_986-129388-0002_03_65_nspkrs_1.wav\n",
      "2: Extracting features from: 4236-8927-0059_4236-8927-0038_02_65_nspkrs_1.wav\n",
      "2: Extracting features from: 249-121331-0101_249-121331-0070_04_61_nspkrs_1.wav\n",
      "2: Extracting features from: 3994-149798-0026_3994-149798-0015_02_97_nspkrs_1.wav\n",
      "2: Extracting features from: 5386-8684-0046_5386-4145-0024_03_67_nspkrs_1.wav\n",
      "2: Extracting features from: 5154-6174-0016_5154-26558-0008_04_32_nspkrs_1.wav\n",
      "2: Extracting features from: 2853-164187-0022_2853-164187-0009_04_30_nspkrs_1.wav\n",
      "2: Extracting features from: 1081-125237-0096_1081-125237-0009_02_92_nspkrs_1.wav\n",
      "2: Extracting features from: 1259-27120-0025_1259-137770-0014_02_90_nspkrs_1.wav\n",
      "2: Extracting features from: 126-122467-0042_126-122467-0021_02_90_nspkrs_1.wav\n",
      "2: Extracting features from: 1264-129805-0066_1264-129805-0033_02_63_nspkrs_1.wav\n",
      "2: Extracting features from: 1284-1181-0021_1284-1180-0013_02_70_nspkrs_1.wav\n",
      "2: Extracting features from: 1462-170145-0017_1462-170142-0029_03_25_nspkrs_1.wav\n",
      "2: Extracting features from: 1487-133273-0090_1487-133273-0074_03_15_nspkrs_1.wav\n",
      "2: Extracting features from: 1498-140041-0041_1498-140040-0009_05_01_nspkrs_1.wav\n",
      "2: Extracting features from: 2007-149877-0061_2007-132570-0049_03_77_nspkrs_1.wav\n",
      "2: Extracting features from: 2393-144496-0100_2393-144496-0061_04_77_nspkrs_1.wav\n",
      "2: Extracting features from: 251-137823-0025_251-137823-0015_03_66_nspkrs_1.wav\n",
      "2: Extracting features from: 2618-138042-0064_2618-138042-0022_04_00_nspkrs_1.wav\n",
      "2: Extracting features from: 2893-139310-0017_2893-139310-0014_03_96_nspkrs_1.wav\n",
      "2: Extracting features from: 3185-163505-0080_3185-163505-0041_02_78_nspkrs_1.wav\n",
      "2: Extracting features from: 3307-145138-0066_3307-145138-0018_03_52_nspkrs_1.wav\n",
      "2: Extracting features from: 3630-11612-0049_3630-11612-0001_04_00_nspkrs_1.wav\n",
      "2: Extracting features from: 3989-182394-0036_3989-182394-0023_04_37_nspkrs_1.wav\n",
      "2: Extracting features from: 4018-107338-0002_4018-103416-0015_03_65_nspkrs_1.wav\n",
      "2: Extracting features from: 403-128339-0052_403-126855-0027_02_56_nspkrs_1.wav\n",
      "2: Extracting features from: 4044-9010-0092_4044-9010-0061_03_17_nspkrs_1.wav\n",
      "2: Extracting features from: 4051-11218-0046_4051-11217-0034_04_76_nspkrs_1.wav\n",
      "2: Extracting features from: 4137-11702-0029_4137-11701-0020_03_69_nspkrs_1.wav\n",
      "2: Extracting features from: 5386-8684-0008_7176-92135-0007_03_85_nspkrs_2.wav\n",
      "2: Extracting features from: 2823-160964-0029_5104-33406-0021_04_71_nspkrs_2.wav\n",
      "2: Extracting features from: 7188-82904-0005_8619-291379-0027_03_89_nspkrs_2.wav\n",
      "2: Extracting features from: 8297-275154-0021_8705-290363-0058_04_81_nspkrs_2.wav\n",
      "2: Extracting features from: 6294-86679-0038_8464-282934-0001_02_83_nspkrs_2.wav\n",
      "2: Extracting features from: 5393-19218-0013_5895-34622-0018_04_98_nspkrs_2.wav\n",
      "2: Extracting features from: 1594-135914-0052_5776-46889-0111_03_56_nspkrs_2.wav\n",
      "2: Extracting features from: 1183-128659-0014_3615-14674-0057_03_03_nspkrs_2.wav\n",
      "2: Extracting features from: 4108-2772-0031_5389-4861-0003_04_14_nspkrs_2.wav\n",
      "2: Extracting features from: 115-122944-0032_4899-32637-0006_04_54_nspkrs_2.wav\n",
      "2: Extracting features from: 718-129597-0066_8063-274112-0003_03_84_nspkrs_2.wav\n",
      "2: Extracting features from: 1552-140651-0035_2368-157057-0033_03_98_nspkrs_2.wav\n",
      "2: Extracting features from: 4236-8927-0076_6330-66016-0028_04_62_nspkrs_2.wav\n",
      "2: Extracting features from: 5918-46890-0084_777-126732-0054_02_54_nspkrs_2.wav\n",
      "2: Extracting features from: 5684-46243-0050_84-121123-0018_03_21_nspkrs_2.wav\n",
      "2: Extracting features from: 1246-135815-0016_2582-155972-0027_03_60_nspkrs_2.wav\n",
      "2: Extracting features from: 1052-139307-0016_8014-112602-0024_03_13_nspkrs_2.wav\n",
      "2: Extracting features from: 2319-138656-0042_6553-82558-0023_02_75_nspkrs_2.wav\n",
      "2: Extracting features from: 4837-302000-0019_5393-19219-0022_04_26_nspkrs_2.wav\n",
      "2: Extracting features from: 6295-244435-0028_7188-104637-0037_02_56_nspkrs_2.wav\n",
      "2: Extracting features from: 2428-83699-0033_5639-40744-0010_03_92_nspkrs_2.wav\n",
      "2: Extracting features from: 1898-145724-0024_434-132644-0032_04_10_nspkrs_2.wav\n",
      "2: Extracting features from: 2514-149482-0072_5105-28240-0007_04_95_nspkrs_2.wav\n",
      "2: Extracting features from: 576-129623-0090_8677-296078-0041_03_62_nspkrs_2.wav\n",
      "2: Extracting features from: 5637-41170-0032_6574-120583-0022_02_79_nspkrs_2.wav\n",
      "2: Extracting features from: 4854-24731-0065_7139-75360-0016_04_69_nspkrs_2.wav\n",
      "2: Extracting features from: 2830-3980-0004_6494-60801-0033_03_81_nspkrs_2.wav\n",
      "2: Extracting features from: 5740-97610-0037_6782-61316-0044_03_73_nspkrs_2.wav\n",
      "2: Extracting features from: 5776-46889-0109_7569-102240-0008_03_42_nspkrs_2.wav\n",
      "2: Extracting features from: 5339-14134-0036_667-105002-0041_02_83_nspkrs_2.wav\n",
      "2: Extracting features from: 3536-8226-0031_5660-101854-0008_03_25_nspkrs_2.wav\n",
      "2: Extracting features from: 1040-133433-0054_7475-232691-0026_04_16_nspkrs_2.wav\n",
      "2: Extracting features from: 1089-134686-0032_7832-258250-0055_04_09_nspkrs_2.wav\n",
      "2: Extracting features from: 5694-64029-0010_7569-102240-0015_03_85_nspkrs_2.wav\n",
      "2: Extracting features from: 6544-67863-0019_7752-110522-0018_04_66_nspkrs_2.wav\n",
      "2: Extracting features from: 1093-132891-0112_7395-89882-0032_03_45_nspkrs_2.wav\n",
      "2: Extracting features from: 1098-133695-0077_211-122442-0035_04_80_nspkrs_2.wav\n",
      "2: Extracting features from: 1160-139717-0011_1455-138263-0002_04_55_nspkrs_2.wav\n",
      "2: Extracting features from: 1462-170145-0019_2764-36616-0000_02_69_nspkrs_2.wav\n",
      "2: Extracting features from: 1752-16632-0048_288-130994-0034_04_76_nspkrs_2.wav\n",
      "2: Extracting features from: 176-123271-0022_4973-24514-0013_04_76_nspkrs_2.wav\n",
      "2: Extracting features from: 1811-129443-0075_3370-163384-0042_04_21_nspkrs_2.wav\n"
     ]
    },
    {
     "name": "stdout",
     "output_type": "stream",
     "text": [
      "2: Extracting features from: 1903-132499-0080_6701-71402-0007_02_75_nspkrs_2.wav\n",
      "2: Extracting features from: 210-129396-0102_2843-152918-0078_04_05_nspkrs_2.wav\n",
      "2: Extracting features from: 211-122442-0065_7717-105405-0059_04_86_nspkrs_2.wav\n",
      "2: Extracting features from: 2136-5143-0001_7729-102255-0000_02_90_nspkrs_2.wav\n",
      "2: Extracting features from: 2388-153728-0008_6925-80680-0016_04_72_nspkrs_2.wav\n",
      "2: Extracting features from: 2741-159386-0015_5660-101884-0019_03_19_nspkrs_2.wav\n",
      "2: Extracting features from: 2764-36619-0018_6233-36633-0005_03_83_nspkrs_2.wav\n",
      "2: Extracting features from: 311-124404-0019_8011-291458-0028_04_46_nspkrs_2.wav\n",
      "2: Extracting features from: 3307-145138-0027_7258-91902-0031_04_20_nspkrs_2.wav\n",
      "2: Extracting features from: 335-125943-0025_5808-54425-0033_02_58_nspkrs_2.wav\n",
      "2: Extracting features from: 3368-170950-0007_5656-44577-0005_03_60_nspkrs_2.wav\n",
      "2: Extracting features from: 3615-14677-0003_6865-95959-0002_04_75_nspkrs_2.wav\n",
      "2: Extracting features from: 3630-24758-0009_5652-19215-0011_04_81_nspkrs_2.wav\n"
     ]
    }
   ],
   "source": [
    "# extract and store feats as pickle file\n",
    "for i in range(len(wav_files)):\n",
    "    for j in range(len(wav_files[i])):\n",
    "        for k in range(len(wav_files[i][j])):\n",
    "            # read wav file\n",
    "            y, sr = librosa.load(wav_files[i][j][k],sr=None)\n",
    "            head, tail = os.path.split(wav_files[i][j][k])\n",
    "            print(str(i+1)+': Extracting features from: ' + tail)\n",
    "            if sr != 16000:\n",
    "                y = librosa.resample(y, sr, 16000)\n",
    "                sr = 16000\n",
    "            y = y/np.max(abs(y))\n",
    "\n",
    "            # extract features from a numpy array\n",
    "            audio = np.reshape(y,(1,len(y)))\n",
    "            audio = np.float64(audio)\n",
    "            feats = engine.processAudio(audio)\n",
    "\n",
    "            for l in range(len(feats_type)):\n",
    "                if not os.path.exists(path_store_feats+feats_type[l]):\n",
    "                    os.mkdir(path_store_feats+feats_type[l])\n",
    "                with open(path_store_feats+feats_type[l]+'/'+tail[:-4]+'_'+feats_type[l]+\n",
    "                          '.pickle', 'wb') as f:\n",
    "                    pickle.dump(feats[feats_type[l]], f)\n"
   ]
  },
  {
   "cell_type": "code",
   "execution_count": 138,
   "metadata": {},
   "outputs": [
    {
     "name": "stdout",
     "output_type": "stream",
     "text": [
      "BAC009S0195W0418_BAC009S0195W0360_03_84_nspkrs_1.wav\n"
     ]
    },
    {
     "ename": "ZeroDivisionError",
     "evalue": "division by zero",
     "output_type": "error",
     "traceback": [
      "\u001b[0;31m---------------------------------------------------------------------------\u001b[0m",
      "\u001b[0;31mZeroDivisionError\u001b[0m                         Traceback (most recent call last)",
      "\u001b[0;32m<ipython-input-138-b79f005e3635>\u001b[0m in \u001b[0;36m<module>\u001b[0;34m\u001b[0m\n\u001b[1;32m     80\u001b[0m                     \u001b[0;32mif\u001b[0m \u001b[0mk\u001b[0m \u001b[0;34m==\u001b[0m \u001b[0;36m4\u001b[0m\u001b[0;34m:\u001b[0m\u001b[0;34m\u001b[0m\u001b[0;34m\u001b[0m\u001b[0m\n\u001b[1;32m     81\u001b[0m                         \u001b[0mprint\u001b[0m\u001b[0;34m(\u001b[0m\u001b[0mtail\u001b[0m\u001b[0;34m)\u001b[0m\u001b[0;34m\u001b[0m\u001b[0;34m\u001b[0m\u001b[0m\n\u001b[0;32m---> 82\u001b[0;31m                         \u001b[0mprint\u001b[0m\u001b[0;34m(\u001b[0m\u001b[0;36m1\u001b[0m\u001b[0;34m/\u001b[0m\u001b[0;36m0\u001b[0m\u001b[0;34m)\u001b[0m\u001b[0;34m\u001b[0m\u001b[0;34m\u001b[0m\u001b[0m\n\u001b[0m\u001b[1;32m     83\u001b[0m                 \u001b[0;31m# find distance\u001b[0m\u001b[0;34m\u001b[0m\u001b[0;34m\u001b[0m\u001b[0;34m\u001b[0m\u001b[0m\n\u001b[1;32m     84\u001b[0m                 \u001b[0mdist\u001b[0m \u001b[0;34m=\u001b[0m \u001b[0mnp\u001b[0m\u001b[0;34m.\u001b[0m\u001b[0mlinalg\u001b[0m\u001b[0;34m.\u001b[0m\u001b[0mnorm\u001b[0m\u001b[0;34m(\u001b[0m\u001b[0mf_1\u001b[0m\u001b[0;34m-\u001b[0m\u001b[0mf_2\u001b[0m\u001b[0;34m,\u001b[0m\u001b[0maxis\u001b[0m\u001b[0;34m=\u001b[0m\u001b[0;36m0\u001b[0m\u001b[0;34m)\u001b[0m\u001b[0;34m\u001b[0m\u001b[0;34m\u001b[0m\u001b[0m\n",
      "\u001b[0;31mZeroDivisionError\u001b[0m: division by zero"
     ]
    }
   ],
   "source": [
    "# read feats.pickle and find the distance between before and after change instant\n",
    "path_store_feats = './data/feats/'\n",
    "feats_column_name = ['engy_edist','engy_ratio',\n",
    "              'mfcc_edist','mfcc_ratio'\n",
    "              'mfcc_d1_edist','mfcc_d1_ratio',\n",
    "              'mfcc_d2_edist','mfcc_d2_ratio',\n",
    "              'envp_edist','envp_ratio',\n",
    "              'mel_edist','mel_ratio',\n",
    "              'sflux_edist','sflux_ratio',\n",
    "              'sroll_edist','sroll_ratio',\n",
    "              'loudness_edist','loudness_ratio',\n",
    "              'f0_edist','f0_ratio',\n",
    "              'am_edist','am_ratio']\n",
    "\n",
    "feats_distance = []\n",
    "feats_distance.append([])\n",
    "feats_distance[0].append('fname')\n",
    "feats_distance[0].append('lang')\n",
    "feats_distance[0].append('changeIns')\n",
    "for i in range(len(feats_column_name)):\n",
    "    feats_distance[0].append(feats_column_name[i])\n",
    "cnt = 1\n",
    "for i in range(len(wav_files)):\n",
    "    for j in range(len(wav_files[i])):\n",
    "        for k in range(len(wav_files[i][j])):\n",
    "            feats_distance.append([])\n",
    "            head, tail = os.path.split(wav_files[i][j][k])\n",
    "            feats_distance[cnt].append(tail[:-4])\n",
    "            feats_distance[cnt].append(i)\n",
    "            for l in range(len(feats_type)):\n",
    "                # get the indices\n",
    "                if l == 0:\n",
    "                    with open(path_store_feats+feats_type[l]+'/'+tail[0:-4]+'_'+feats_type[l]+'.pickle', 'rb') as f:\n",
    "                        x = pickle.load(f)\n",
    "                    changeIndex = int(float(tail.split('_nspkrs')[0].split('_')[-2]+\\\n",
    "                                            '.'+tail.split('_nspkrs')[0].split('_')[-1])*sr/stepSize)\n",
    "                    temp = x[:changeIndex,:]\n",
    "                    indx_not_zero_1 = np.where(temp>0)[0]\n",
    "                    # mean after change\n",
    "                    temp = x[changeIndex:,:]\n",
    "                    indx_not_zero_2 = np.where(temp>0)[0]\n",
    "                    # append changeIns\n",
    "                    feats_distance[cnt].append(changeIndex*stepSize/sr)\n",
    "                if l <len(feats_type)-2:\n",
    "                    with open(path_store_feats+feats_type[l]+'/'+tail[0:-4]+'_'+feats_type[l]+'.pickle', 'rb') as f:\n",
    "                        x = pickle.load(f)\n",
    "                    changeIndex = int(float(tail.split('_nspkrs')[0].split('_')[-2]+\\\n",
    "                                            '.'+tail.split('_nspkrs')[0].split('_')[-1])*sr/stepSize)\n",
    "                    # mean before change\n",
    "                    temp = stats.zscore(x, axis = 0)[:changeIndex,:]\n",
    "                    f_1 = np.mean(temp[indx_not_zero_1,:],axis=0)\n",
    "\n",
    "                    # mean after change\n",
    "                    temp = stats.zscore(x, axis = 0)[changeIndex:,:]\n",
    "                    f_2 = np.mean(temp[indx_not_zero_2,:],axis=0)\n",
    "                if l == len(feats_type)-1:\n",
    "                    y, sr = librosa.load(wav_files[i][j][k],sr=None)\n",
    "                    head, tail = os.path.split(wav_files[i][j][k])\n",
    "                    changeIndex = int(float(tail.split('_nspkrs')[0].split('_')[-2]+\\\n",
    "                                        '.'+tail.split('_nspkrs')[0].split('_')[-1])*sr)\n",
    "                    # get lowpass hilbert spectrum\n",
    "                    x = np.abs(scipy.signal.hilbert(y))\n",
    "                    b, a = scipy.signal.butter(4, 10/(sr/2))\n",
    "                    x = scipy.signal.filtfilt(b, a, x, padlen=150)\n",
    "                    # get AM spectrum before and after change\n",
    "                    temp = []\n",
    "                    temp.append(scipy.signal.decimate(x[:changeIndex],32))\n",
    "                    temp.append(scipy.signal.decimate(x[changeIndex:],32))\n",
    "                    sr_am = sr/32\n",
    "                    fc = [[0,1],[1,3],[3,15]]\n",
    "                    order = 3\n",
    "                    temp_filt_1 = []\n",
    "                    for m in range(3):\n",
    "                        temp_filt_1.append(butter_bandpass_filter(data = temp[0],lowcut = fc[m][0],\n",
    "                                                    highcut = fc[m][1],fs = sr_am, order = order))\n",
    "                    temp_filt_2 = []\n",
    "                    for m in range(3):\n",
    "                        temp_filt_2.append(butter_bandpass_filter(data = temp[1],lowcut = fc[m][0],\n",
    "                                                    highcut = fc[m][1],fs = sr_am, order = order))\n",
    "                    f_1 = np.array(temp)\n",
    "                    if k == 4:\n",
    "                        print(tail)\n",
    "                        print(1/0)\n",
    "                # find distance \n",
    "                dist = np.linalg.norm(f_1-f_2,axis=0)\n",
    "                feats_distance[cnt].append(dist)\n",
    "                feats_distance[cnt].append(ratio)\n",
    "            cnt = cnt+1\n",
    "df = pd.DataFrame(feats_distance)\n",
    "new_header = df.iloc[0] #grab the first row for the header\n",
    "df = df[1:] #take the data less the header row\n",
    "df.columns = new_header #set the header row as the df header"
   ]
  },
  {
   "cell_type": "code",
   "execution_count": 137,
   "metadata": {},
   "outputs": [
    {
     "data": {
      "text/plain": [
       "2"
      ]
     },
     "execution_count": 137,
     "metadata": {},
     "output_type": "execute_result"
    }
   ],
   "source": [
    "def kl_div_multi_gaussian(X):\n",
    "    dim = np.shape(X[0])[0]\n",
    "    mu = []\n",
    "    cov = []\n",
    "    icov = []\n",
    "    det = []\n",
    "    for i in range(len(X)):\n",
    "        mu.append(np.mean(X[i]))\n",
    "        cov.append(np.cov(X[i]))\n",
    "        icov.append(np.linalg.inv(cov[i]))\n",
    "        det.append(numpy.linalg.det(cov[i]))\n",
    "    KL = 0.5*(mp.log(det[0]/det[1])-dim+\n",
    "              np.trace(np.matmul(icov[1],cov[0]))+\n",
    "              np.matmmul(mu[1]-mu[0]).T,\n",
    "              np.matmul(icov[1],mu[1]-mu[0]))\n",
    "    return KL\n",
    "\n",
    "def kl_div_uni_gaussian(X):\n",
    "    mu = []\n",
    "    sigma = []\n",
    "    for i in range(len(X)):\n",
    "        mu.append(np.mean(X[i]))\n",
    "        cov.append(np.std(X[i]))\n",
    "    KL = np.log(sigma[1]/sigma[0])+\n",
    "            (sigma[0]^^2+(mu[1]-mu[2])^^2)/(2*sigma[1]^^2) - 0.5\n",
    "    return KL\n"
   ]
  },
  {
   "cell_type": "code",
   "execution_count": 120,
   "metadata": {},
   "outputs": [
    {
     "name": "stdout",
     "output_type": "stream",
     "text": [
      "0.03806919200961823\n",
      "0.0031828993222963774\n",
      "0.004743412912839295\n",
      "0.02524388977250838\n",
      "0.0030303382697835445\n",
      "0.0033488000561383005\n"
     ]
    },
    {
     "data": {
      "image/png": "[encoded data removed]",
      "text/plain": [
       "<Figure size 288x576 with 2 Axes>"
      ]
     },
     "metadata": {},
     "output_type": "display_data"
    }
   ],
   "source": [
    "# plt.plot(y)\n",
    "# plt.plot(y,color='b')\n",
    "# plt.plot(x,color='k')\n",
    "z = []\n",
    "z.append(scipy.signal.decimate(x[:changeIndex],32))\n",
    "z.append(scipy.signal.decimate(x[changeIndex:],32))\n",
    "# z = z-np.mean(z)\n",
    "sr_am = sr/32\n",
    "# nfft = 8192\n",
    "# print(len(z))\n",
    "# Z = 10*np.log10(np.abs(np.fft.rfft(z,nfft)))\n",
    "# print(len(Z))\n",
    "# indx_pick = int(25/sr_am*nfft)\n",
    "# plt.plot(np.arange(0,indx_pick)/nfft*sr_am,Z[:indx_pick])\n",
    "\n",
    "fig = plt.subplots(figsize=(4,8))\n",
    "fc = [[0,1],[1,3],[3,15]]\n",
    "order = 3\n",
    "z_filt = []\n",
    "ax = plt.subplot(2,1,1)\n",
    "plt.plot(z[0])\n",
    "for i in range(3):\n",
    "    z_filt.append(butter_bandpass_filter(data = z[0],lowcut = fc[i][0],highcut = fc[i][1],fs = sr_am, order = order))\n",
    "    print(np.sum(np.square(z_filt[i]))/len(z_filt[i]))\n",
    "    ax.plot(z_filt[i])\n",
    "\n",
    "z_filt = []\n",
    "ax = plt.subplot(2,1,2)\n",
    "plt.plot(z[1])\n",
    "for i in range(3):\n",
    "    z_filt.append(butter_bandpass_filter(data = z[1],lowcut = fc[i][0],highcut = fc[i][1],fs = sr_am, order = order))\n",
    "    print(np.sum(np.square(z_filt[i]))/len(z_filt[i]))\n",
    "    ax.plot(z_filt[i])\n"
   ]
  },
  {
   "cell_type": "code",
   "execution_count": 75,
   "metadata": {},
   "outputs": [
    {
     "data": {
      "image/png": "[encoded data removed]",
      "text/plain": [
       "<Figure size 283.465x283.465 with 1 Axes>"
      ]
     },
     "metadata": {},
     "output_type": "display_data"
    }
   ],
   "source": [
    "def butter_bandpass(lowcut, highcut, fs, order=8):\n",
    "    nyq = 0.5 * fs\n",
    "    low = lowcut / nyq\n",
    "    high = highcut / nyq\n",
    "    if low == 0:\n",
    "        b, a = scipy.signal.butter(order, high, btype='low')\n",
    "    else:\n",
    "        b, a = scipy.signal.butter(order, [low, high], btype='band')\n",
    "    return b, a\n",
    "\n",
    "def butter_bandpass_filter(data, lowcut, highcut, fs, order):\n",
    "    b, a = butter_bandpass(lowcut, highcut, fs, order=order)\n",
    "    y = scipy.signal.filtfilt(b, a, data)\n",
    "    return y\n",
    "\n",
    "# Show that frequency response is the same\n",
    "impulse = np.zeros(640)\n",
    "impulse[300] = 1\n",
    "\n",
    "\n",
    "def cm2inch(value):\n",
    "    return value/2.54\n",
    "\n",
    "sns.set_style(\"white\")\n",
    "sns.set_style(\"ticks\")\n",
    "fig, ax = plt.subplots(figsize=(cm2inch(10),cm2inch(10)))\n",
    "\n",
    "fc = [[0,4],[4,11],[11,25]]\n",
    "fc_MMN = [[1,20]]\n",
    "for i in range(3):\n",
    "    fs = 500\n",
    "    order = 3\n",
    "    y = butter_bandpass_filter(data = impulse,lowcut = fc[i][0],highcut = fc[i][1],fs = fs ,order = order)\n",
    "    nfft = 1024\n",
    "    faxis = np.arange(0,nfft/2+1,1)/nfft*fs\n",
    "    # plt.semilogx(faxis,20*np.log10(np.abs(rfft(y,nfft))))\n",
    "    ax.plot(faxis,20*np.log10(np.abs(np.fft.rfft(y,nfft))))\n",
    "    plt.ylim(-40, 2)\n",
    "    plt.xlim(0, 50)\n",
    "    plt.grid(True, which='both')\n",
    "    plt.title('Temporal Modulation Filterbank')\n",
    "    "
   ]
  },
  {
   "cell_type": "code",
   "execution_count": null,
   "metadata": {
    "collapsed": true
   },
   "outputs": [],
   "source": [
    "df"
   ]
  },
  {
   "cell_type": "code",
   "execution_count": null,
   "metadata": {
    "collapsed": true
   },
   "outputs": [],
   "source": [
    "fig = plt.subplots(figsize=(16,12))\n",
    "for i in range(len(feats_type)):\n",
    "    ax = plt.subplot(3,3,i+1) \n",
    "    ax = sns.distplot(df[feats_type[i]][:], color=\"skyblue\", vertical=False)\n",
    "plt.show()"
   ]
  },
  {
   "cell_type": "code",
   "execution_count": null,
   "metadata": {
    "collapsed": true
   },
   "outputs": [],
   "source": [
    "# read data\n",
    "audio_type = ['chin','eng']\n",
    "sub_IDs = ['S2','S3','S4','S5','S6','S7','S8','S9','S10','S11','S12','S13','S14','S15',\n",
    "          'S16','S17','S18','S19','S20','S21','S22','S23','S24','S25','S26','S27','S28','S29']\n",
    "\n",
    "miss = []\n",
    "fa = []\n",
    "hit = []\n",
    "rt_miss = []\n",
    "rt_fa = []\n",
    "rt_hit = []\n",
    "\n",
    "fa_names = []\n",
    "miss_names = []\n",
    "hit_names = []\n",
    "rt_correct = []\n",
    "rt_incorrect = []\n",
    "\n",
    "df = pd.DataFrame() \n",
    "\n",
    "for i in range(len(sub_IDs)):\n",
    "    miss.append([])\n",
    "    fa.append([])\n",
    "    hit.append([])\n",
    "    rt_miss.append([])\n",
    "    rt_fa.append([])\n",
    "    rt_hit.append([])\n",
    "    rt_correct.append([])\n",
    "    rt_incorrect.append([])\n",
    "\n",
    "    for j in range(len(audio_type)):\n",
    "        if 1: # read from local repo\n",
    "            url = '../lisTest/tcdDecision/recordings/New_recordings/'+audio_type[j]+'_'+sub_IDs[i]+'/keys.csv'\n",
    "        else: # read from online repo\n",
    "            url = 'https://raw.githubusercontent.com/neerajww/lang_tcd/venkat201097-test1/code/lisTest/tcdDecision/recordings/New_recordings/'+audio_type[j]+'_'+sub_IDs[i]+'/keys.csv'\n",
    "        # load csv into a dataframe\n",
    "        temp = pd.read_csv(url,header=None)\n",
    "        temp['subID'] = i+1\n",
    "        df = df.append(temp, ignore_index = True)\n",
    "        \n",
    "#         RT = (df[7].values - df[6].values)*1000 # in msec"
   ]
  },
  {
   "cell_type": "code",
   "execution_count": null,
   "metadata": {
    "collapsed": true
   },
   "outputs": [],
   "source": [
    "df"
   ]
  },
  {
   "cell_type": "code",
   "execution_count": null,
   "metadata": {
    "collapsed": true
   },
   "outputs": [],
   "source": [
    "DF = df.copy()\n",
    "for i in range(len(feats_type)):\n",
    "    DF[feats_type[i]] = 0\n",
    "DF['lang'] = 0\n",
    "DF['changeIns'] = 0\n",
    "\n",
    "for i in range(len(DF)):\n",
    "    for j in range(len(feats_distance)):\n",
    "        fname = DF[1].values[i]\n",
    "        head, tail = os.path.split(fname)\n",
    "        if feats_distance[j][0] == tail[:-4]:\n",
    "            for k in range(len(feats_type)):\n",
    "                DF.loc[i,feats_type[k]] = feats_distance[j][3+k] \n",
    "            DF.loc[i,'lang'] = feats_distance[j][1] \n",
    "            DF.loc[i,'changeIns'] = feats_distance[j][2]\n",
    "DF.rename(columns={0: \"fIndex\", 1: \"fname\",2:'label',3:'response',4:'session',5:'t_start',6:\"t_end\",7:\"t_resp\"},\n",
    "          inplace = True)"
   ]
  },
  {
   "cell_type": "code",
   "execution_count": null,
   "metadata": {
    "collapsed": true
   },
   "outputs": [],
   "source": [
    "DF"
   ]
  },
  {
   "cell_type": "code",
   "execution_count": null,
   "metadata": {
    "collapsed": true
   },
   "outputs": [],
   "source": [
    "DF.to_csv('./data/csvs/pooled_subject_response_acoustic_feats_data.csv',index=False) "
   ]
  },
  {
   "cell_type": "code",
   "execution_count": null,
   "metadata": {
    "collapsed": true
   },
   "outputs": [],
   "source": [
    "a = pd.read_csv('./data/csvs/pooled_subject_response_acoustic_feats_data.csv')  "
   ]
  },
  {
   "cell_type": "code",
   "execution_count": null,
   "metadata": {
    "collapsed": true
   },
   "outputs": [],
   "source": [
    "a"
   ]
  },
  {
   "cell_type": "code",
   "execution_count": null,
   "metadata": {
    "collapsed": true
   },
   "outputs": [],
   "source": [
    "DF['RT'] = DF['t_resp'] - DF['t_end']\n",
    "DF['label-response'] = DF['label'] - DF['response']\n",
    "indx = []\n",
    "indx.append(DF.loc[DF['session'] == 'TEST'].index.to_numpy())\n",
    "indx.append(np.where(DF[\"label-response\"].values ==0)[0])\n",
    "indx.append(DF.loc[DF['lang'] == 0].index.to_numpy())\n",
    "indx.append(DF.loc[DF['lang'] == 1].index.to_numpy())\n",
    "indx.append(np.where(DF[\"RT\"].values >.200)[0])\n",
    "indx.append(np.where(DF[\"RT\"].values <2)[0])\n",
    "indx_correct = []\n",
    "indx_correct.append(np.array(list(set(indx[0]) & set(indx[1]) & set(indx[2]) & set(indx[4]) & set(indx[5]))))\n",
    "indx_correct.append(np.array(list(set(indx[0]) & set(indx[1]) & set(indx[3]) & set(indx[4]) & set(indx[5]))))"
   ]
  },
  {
   "cell_type": "code",
   "execution_count": null,
   "metadata": {
    "collapsed": true
   },
   "outputs": [],
   "source": [
    "DF"
   ]
  },
  {
   "cell_type": "code",
   "execution_count": null,
   "metadata": {
    "collapsed": true
   },
   "outputs": [],
   "source": [
    "DF_subset = DF.loc[indx_correct[0], :]\n",
    "RT = DF_subset[\"RT\"].values\n",
    "features = DF_subset[feats_type].values"
   ]
  },
  {
   "cell_type": "code",
   "execution_count": null,
   "metadata": {
    "collapsed": true
   },
   "outputs": [],
   "source": [
    "features.shape\n",
    "RT.shape"
   ]
  },
  {
   "cell_type": "code",
   "execution_count": null,
   "metadata": {
    "collapsed": true
   },
   "outputs": [],
   "source": [
    "import statsmodels.api as sm\n",
    "# spector_data = sm.datasets.spector.load(as_pandas=False)\n",
    "# spector_data.exog = sm.add_constant(spector_data.exog, prepend=False)\n",
    "# Fit and summarize OLS model\n",
    "data_x = sm.add_constant(features,prepend=False)\n",
    "data_y = RT.copy()\n",
    "mod = sm.OLS(data_y, data_x)"
   ]
  },
  {
   "cell_type": "code",
   "execution_count": null,
   "metadata": {
    "collapsed": true
   },
   "outputs": [],
   "source": [
    "res = mod.fit()\n",
    "print(res.summary())"
   ]
  },
  {
   "cell_type": "code",
   "execution_count": 6,
   "metadata": {
    "collapsed": true
   },
   "outputs": [],
   "source": [
    "y, sr = librosa.load('/Users/neeks/Downloads/breathing-fast.wav',\n",
    "                     sr=None)\n",
    "\n"
   ]
  },
  {
   "cell_type": "code",
   "execution_count": 7,
   "metadata": {},
   "outputs": [
    {
     "data": {
      "text/plain": [
       "[<matplotlib.lines.Line2D at 0x11b6640f0>]"
      ]
     },
     "execution_count": 7,
     "metadata": {},
     "output_type": "execute_result"
    },
    {
     "data": {
      "image/png": "[encoded data removed]",
      "text/plain": [
       "<Figure size 432x288 with 1 Axes>"
      ]
     },
     "metadata": {
      "needs_background": "light"
     },
     "output_type": "display_data"
    }
   ],
   "source": [
    "plt.plot(y)"
   ]
  },
  {
   "cell_type": "code",
   "execution_count": 8,
   "metadata": {},
   "outputs": [
    {
     "data": {
      "text/plain": [
       "48000"
      ]
     },
     "execution_count": 8,
     "metadata": {},
     "output_type": "execute_result"
    }
   ],
   "source": [
    "sr"
   ]
  },
  {
   "cell_type": "code",
   "execution_count": null,
   "metadata": {
    "collapsed": true
   },
   "outputs": [],
   "source": []
  }
 ],
 "metadata": {
  "kernelspec": {
   "display_name": "Python 3",
   "language": "python",
   "name": "python3"
  },
  "language_info": {
   "codemirror_mode": {
    "name": "ipython",
    "version": 3
   },
   "file_extension": ".py",
   "mimetype": "text/x-python",
   "name": "python",
   "nbconvert_exporter": "python",
   "pygments_lexer": "ipython3",
   "version": "3.6.8"
  }
 },
 "nbformat": 4,
 "nbformat_minor": 2
}
