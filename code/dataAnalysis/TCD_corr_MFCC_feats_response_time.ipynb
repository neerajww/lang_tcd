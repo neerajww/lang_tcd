{
 "cells": [
  {
   "cell_type": "code",
   "execution_count": 10,
   "metadata": {},
   "outputs": [],
   "source": [
    "import glob \n",
    "import os \n",
    "import librosa \n",
    "import numpy as np\n",
    "import pandas as pd\n",
    "import pickle\n",
    "%matplotlib inline\n",
    "import matplotlib.pyplot as plt\n",
    "import librosa.display"
   ]
  },
  {
   "cell_type": "code",
   "execution_count": 11,
   "metadata": {},
   "outputs": [],
   "source": [
    "# Load wav files\n",
    "path_wav_files = '../lisTest/tcdDecision/playback/STIMULI/'\n",
    "wav_folder_types = ['chinese','english']\n",
    "wav_files = []\n",
    "\n",
    "for i in range(len(wav_folder_types)):\n",
    "    wav_files.append([])\n",
    "    for file in glob.glob(path_wav_files+'/'+wav_folder_types[i]+'/wavFilesTest/'+'*'+'.wav'):\n",
    "        wav_files[i].append(file)"
   ]
  },
  {
   "cell_type": "code",
   "execution_count": 12,
   "metadata": {},
   "outputs": [],
   "source": [
    "# Extract MFCC features from wav files\n",
    "fs = 16000\n",
    "file_names_nspkrs1 = []\n",
    "file_names_nspkrs2 = []\n",
    "dist_nspkrs1 = []\n",
    "dist_nspkrs2 = []\n",
    "\n",
    "for j in range(len(wav_files)):\n",
    "    \n",
    "    file_names_nspkrs1.append([])\n",
    "    file_names_nspkrs2.append([])\n",
    "    dist_nspkrs1.append([])\n",
    "    dist_nspkrs2.append([])\n",
    "    \n",
    "    for i in range(len(wav_files[j])):\n",
    "        \n",
    "        f = wav_files[j][i]\n",
    "        y, sr = librosa.load(f, sr=None)\n",
    "    \n",
    "        # split speech sample at change point\n",
    "        head, tail = os.path.split(f)\n",
    "        change = tail.split('_')[2:4]\n",
    "        t = int(change[0]) + 0.01*int(change[1])\n",
    "        mfccs1 = librosa.feature.mfcc(y[:int(t*fs)], n_mfcc=40, sr=fs, hop_length=512)\n",
    "        mfccs1_mean = np.mean(mfccs1, axis=1)\n",
    "        mfccs2 = librosa.feature.mfcc(y[int(t*fs)+1:], n_mfcc=40, sr=fs, hop_length=512)\n",
    "        mfccs2_mean = np.mean(mfccs2, axis=1)\n",
    "        dist = np.linalg.norm(mfccs1_mean - mfccs2_mean)\n",
    "        \n",
    "        if tail.split('_')[5][0] == '1':\n",
    "            file_names_nspkrs1[j].append(tail)\n",
    "            dist_nspkrs1[j].append(dist)\n",
    "        else:\n",
    "            file_names_nspkrs2[j].append(tail)\n",
    "            dist_nspkrs2[j].append(dist)"
   ]
  },
  {
   "cell_type": "code",
   "execution_count": 13,
   "metadata": {},
   "outputs": [],
   "source": [
    "df_chin_nspkrs1 = pd.DataFrame()\n",
    "df_chin_nspkrs1 = df_chin_nspkrs1.assign(file_name=file_names_nspkrs1[0], dist=dist_nspkrs1[0], reaction_times=0, count=0)\n",
    "df_chin_nspkrs2 = pd.DataFrame()\n",
    "df_chin_nspkrs2 = df_chin_nspkrs2.assign(file_name=file_names_nspkrs2[0], dist=dist_nspkrs2[0], reaction_times=0, count=0)\n",
    "\n",
    "df_eng_nspkrs1 = pd.DataFrame()\n",
    "df_eng_nspkrs1 = df_eng_nspkrs1.assign(file_name=file_names_nspkrs1[1], dist=dist_nspkrs1[1], reaction_times=0, count=0)\n",
    "df_eng_nspkrs2 = pd.DataFrame()\n",
    "df_eng_nspkrs2 = df_eng_nspkrs2.assign(file_name=file_names_nspkrs2[1], dist=dist_nspkrs2[1], reaction_times=0, count=0)"
   ]
  },
  {
   "cell_type": "code",
   "execution_count": 14,
   "metadata": {},
   "outputs": [],
   "source": [
    "# Read human behavior data\n",
    "audio_type = ['chin','eng']\n",
    "sub_IDs = []\n",
    "for i in range(2, 30):\n",
    "    sub_IDs.append('S'+ str(i))\n",
    "    \n",
    "\n",
    "rt_chin_correct_nspkrs1 = []\n",
    "rt_chin_correct_nspkrs2 = []\n",
    "rt_eng_correct_nspkrs1 = []\n",
    "rt_eng_correct_nspkrs2 = []\n",
    "\n",
    "\n",
    "for i in range(len(sub_IDs)):\n",
    "    for j in range(len(audio_type)):\n",
    "\n",
    "        url = '../lisTest/tcdDecision/recordings/New_recordings/'+audio_type[j]+'_'+sub_IDs[i]+'/keys.csv'\n",
    "        # load csv into a dataframe\n",
    "        df = pd.read_csv(url,header=None,error_bad_lines=False)\n",
    "        \n",
    "    \n",
    "        # extract the label (1/2), response (1/2), and session (TRAIN/TEST) columns\n",
    "        indices = df[0].values\n",
    "        filenames = df[1].values\n",
    "        label = df[2].values\n",
    "        resp = df[3].values\n",
    "        session = df[4].values\n",
    "        RT = (df[7].values - df[6].values)*1000 # in msec\n",
    "    \n",
    "        # get index of first TEST stimulus\n",
    "        session = df[4].values\n",
    "        for k in range(len(session)):\n",
    "            if session[k] == 'TEST':\n",
    "                indx_test = k\n",
    "                break\n",
    "                \n",
    "        rt = []\n",
    "        # Mean response times for the participant\n",
    "        for k in range(indx_test,len(label)):\n",
    "             if RT[k]<=2000:\n",
    "                rt.append(RT[k])\n",
    "        mean_rt = np.mean(rt)\n",
    "\n",
    "    \n",
    "        for k in range(indx_test,len(label)):\n",
    "            # correct responses\n",
    "            if int(label[k])==int(resp[k]):\n",
    "                f = filenames[k]\n",
    "                head, tail = os.path.split(f)\n",
    "                nspkrs = int(tail.split('_')[5][0])\n",
    "                if j==0:\n",
    "                    if nspkrs==1:\n",
    "                        temp = df_chin_nspkrs1.index[df_chin_nspkrs1['file_name']==tail].astype(int)\n",
    "                        df_chin_nspkrs1.loc[temp, 'reaction_times'] += RT[k] - mean_rt\n",
    "                        df_chin_nspkrs1.loc[temp, 'count'] += 1\n",
    "                    else:\n",
    "                        temp = df_chin_nspkrs2.index[df_chin_nspkrs2['file_name']==tail].astype(int)\n",
    "                        df_chin_nspkrs2.loc[temp, 'reaction_times'] += RT[k] - mean_rt\n",
    "                        df_chin_nspkrs2.loc[temp, 'count'] += 1\n",
    "                else:\n",
    "                    if nspkrs==1:\n",
    "                        temp = df_eng_nspkrs1.index[df_eng_nspkrs1['file_name']==tail].astype(int)\n",
    "                        df_eng_nspkrs1.loc[temp, 'reaction_times'] += RT[k] - mean_rt\n",
    "                        df_eng_nspkrs1.loc[temp, 'count'] += 1\n",
    "                    else:\n",
    "                        temp = df_eng_nspkrs2.index[df_eng_nspkrs2['file_name']==tail].astype(int)\n",
    "                        df_eng_nspkrs2.loc[temp, 'reaction_times'] += RT[k] - mean_rt\n",
    "                        df_eng_nspkrs2.loc[temp, 'count'] += 1\n"
   ]
  },
  {
   "cell_type": "code",
   "execution_count": 15,
   "metadata": {},
   "outputs": [],
   "source": [
    "df_chin_nspkrs1['mean_rt'] = df_chin_nspkrs1['reaction_times']/df_chin_nspkrs1['count']\n",
    "df_chin_nspkrs2['mean_rt'] = df_chin_nspkrs2['reaction_times']/df_chin_nspkrs2['count']\n",
    "\n",
    "df_eng_nspkrs1['mean_rt'] = df_eng_nspkrs1['reaction_times']/df_eng_nspkrs1['count']\n",
    "df_eng_nspkrs2['mean_rt'] = df_eng_nspkrs2['reaction_times']/df_eng_nspkrs2['count']"
   ]
  },
  {
   "cell_type": "code",
   "execution_count": 16,
   "metadata": {},
   "outputs": [
    {
     "data": {
      "text/plain": [
       "<matplotlib.legend.Legend at 0x1c1b8c4358>"
      ]
     },
     "execution_count": 16,
     "metadata": {},
     "output_type": "execute_result"
    },
    {
     "data": {
      "image/png": "[encoded data removed]",
      "text/plain": [
       "<Figure size 864x288 with 2 Axes>"
      ]
     },
     "metadata": {
      "needs_background": "light"
     },
     "output_type": "display_data"
    }
   ],
   "source": [
    "fig, axes = plt.subplots(nrows=1, ncols=2, figsize=(12,4))\n",
    "ax0, ax1 = axes.flatten()\n",
    "ax0.plot(df_chin_nspkrs1['dist'].values, df_chin_nspkrs1['mean_rt'].values, 'o', color='lime')\n",
    "ax0.plot(df_chin_nspkrs2['dist'].values, df_chin_nspkrs2['mean_rt'].values, 'o', color='orange')\n",
    "ax0.set_xlabel('Distance metric')\n",
    "ax0.set_ylabel('Mean response time')\n",
    "ax0.set_title('Chinese')\n",
    "ax0.legend(['1 speaker', '2 speakers'], loc='upper right')\n",
    "\n",
    "ax1.plot(df_eng_nspkrs1['dist'].values, df_eng_nspkrs1['mean_rt'].values, 'o', color='lime')\n",
    "ax1.plot(df_eng_nspkrs2['dist'].values, df_eng_nspkrs2['mean_rt'].values, 'o', color='orange')\n",
    "ax1.set_xlabel('Distance metric')\n",
    "ax1.set_ylabel('Mean response time')\n",
    "ax1.set_title('English')\n",
    "ax1.legend(['1 speaker', '2 speakers'], loc='upper right')"
   ]
  },
  {
   "cell_type": "code",
   "execution_count": null,
   "metadata": {},
   "outputs": [],
   "source": []
  }
 ],
 "metadata": {
  "kernelspec": {
   "display_name": "Python 3",
   "language": "python",
   "name": "python3"
  },
  "language_info": {
   "codemirror_mode": {
    "name": "ipython",
    "version": 3
   },
   "file_extension": ".py",
   "mimetype": "text/x-python",
   "name": "python",
   "nbconvert_exporter": "python",
   "pygments_lexer": "ipython3",
   "version": "3.7.2"
  }
 },
 "nbformat": 4,
 "nbformat_minor": 2
}
